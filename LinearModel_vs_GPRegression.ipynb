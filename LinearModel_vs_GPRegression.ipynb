{
 "cells": [
  {
   "cell_type": "markdown",
   "metadata": {},
   "source": [
    "# Regresion Lineal VS Regresion con Procesos Gaussianos (RBF kernel)"
   ]
  },
  {
   "cell_type": "markdown",
   "metadata": {},
   "source": [
    "Los datos en el archivo tarea13.xls tienen datos para ajustar dos modelos, el primero tiene una variable respuesta y una variable explicativa y el segundo una variable respuesta y dos explicativas. La idea es ajustar un modelo lineal, ver qué nos sugiere el análisis post ajuste; ajustar un modelo de regresión no paramétrica y con los resultados de estos dos ajustar un modelo de regresión no lineal."
   ]
  },
  {
   "cell_type": "markdown",
   "metadata": {},
   "source": [
    "***Parte 1: Modelo lineal***"
   ]
  },
  {
   "cell_type": "markdown",
   "metadata": {},
   "source": [
    "La base contiene dos tablas de datos, las cuales son separadas para llevar a cabo los análisis. La primera tabla contiene una variable predictora y una respuesta. La segunda tabla incluye dos predictores y una respuesta. Todas las variables son numericas y ambas tablas están formadas por 30 observaciones."
   ]
  },
  {
   "cell_type": "code",
   "execution_count": 9,
   "metadata": {},
   "outputs": [],
   "source": [
    "#paquetes\n",
    "library(ggplot2)\n",
    "library(dplyr)\n",
    "library(gridExtra)\n",
    "library(lmtest)\n",
    "library(nortest)\n",
    "library(scatterplot3d)\n",
    "library(MASS)\n",
    "options(repr.plot.width=6, repr.plot.height=4)"
   ]
  },
  {
   "cell_type": "code",
   "execution_count": 354,
   "metadata": {},
   "outputs": [],
   "source": [
    "#leer datos\n",
    "datos = read.csv(\"tarea13.csv\")\n",
    "colnames(datos)[1] = \"x\"\n",
    "datos1 = datos[c(\"x\",\"y\")] %>% na.omit\n",
    "datos2 = datos[c(\"y1\",\"x1\",\"x2\")] %>% na.omit %>% rename(y=y1) %>% dplyr::select(x1,x2,y)"
   ]
  },
  {
   "cell_type": "code",
   "execution_count": 284,
   "metadata": {},
   "outputs": [
    {
     "name": "stdout",
     "output_type": "stream",
     "text": [
      "Rows: 30\n",
      "Columns: 2\n",
      "$ x <dbl> 0.088502815, 0.493304789, 0.706705809, 0.514427955, 0.296841547, ...\n",
      "$ y <dbl> 2.534822, 6.020681, 9.526898, 6.225583, 3.664876, 7.534283, 3.767...\n"
     ]
    }
   ],
   "source": [
    "glimpse(datos1)"
   ]
  },
  {
   "cell_type": "code",
   "execution_count": 285,
   "metadata": {},
   "outputs": [
    {
     "name": "stdout",
     "output_type": "stream",
     "text": [
      "Rows: 30\n",
      "Columns: 3\n",
      "$ x1 <dbl> 0.23986561, 0.38336039, 0.70621908, 0.29023028, 0.57215205, 0.80...\n",
      "$ x2 <int> 10, 1, 10, 6, 3, 3, 1, 6, 10, 2, 2, 9, 7, 9, 5, 2, 5, 8, 1, 1, 9...\n",
      "$ y  <dbl> 22031.201160, 10.178685, 22052.635240, 408.641130, 35.498567, 57...\n"
     ]
    }
   ],
   "source": [
    "glimpse(datos2)"
   ]
  },
  {
   "cell_type": "markdown",
   "metadata": {},
   "source": [
    "Para el caso del primer dataset, los datos exhiben un comportamiento suave y con poco ruido. La tendencia no dista tanto de una recta, por lo cual el ajuste resultante no será tan malo."
   ]
  },
  {
   "cell_type": "code",
   "execution_count": 17,
   "metadata": {},
   "outputs": [
    {
     "name": "stderr",
     "output_type": "stream",
     "text": [
      "`geom_smooth()` using formula 'y ~ x'\n"
     ]
    },
    {
     "data": {
      "image/png": "[encoded data removed]",
      "text/plain": [
       "plot without title"
      ]
     },
     "metadata": {},
     "output_type": "display_data"
    }
   ],
   "source": [
    "ggplot(datos1,aes(x=x,y=y)) + geom_point() + geom_smooth(method=\"lm\")"
   ]
  },
  {
   "cell_type": "markdown",
   "metadata": {},
   "source": [
    "El segundo dataset exhibe un comportamiento muy distinto en ambas direcciones. Si bien los graficos de la repuesta contra cada predictor no revelan la forma de la superficie de regresion, sí pueden dar indicios de que un modelo lineal no será el adecuado."
   ]
  },
  {
   "cell_type": "code",
   "execution_count": 18,
   "metadata": {},
   "outputs": [
    {
     "data": {
      "image/png": "[encoded data removed]",
      "text/plain": [
       "plot without title"
      ]
     },
     "metadata": {},
     "output_type": "display_data"
    }
   ],
   "source": [
    "p1 = ggplot(datos2) + geom_point(aes(x=x1,y=y),colour=\"steelblue\")\n",
    "p2 = ggplot(datos2) + geom_point(aes(x=x2,y=y),colour=\"firebrick\")\n",
    "grid.arrange(p1,p2,ncol=1)"
   ]
  },
  {
   "cell_type": "code",
   "execution_count": 19,
   "metadata": {},
   "outputs": [
    {
     "data": {
      "image/png": "[encoded data removed]",
      "text/plain": [
       "plot without title"
      ]
     },
     "metadata": {},
     "output_type": "display_data"
    }
   ],
   "source": [
    "scatterplot3d(datos2,color = \"blue\",pch = 19,angle = 45,type=\"h\")"
   ]
  },
  {
   "cell_type": "markdown",
   "metadata": {},
   "source": [
    "Aunque la evidencia gráfica para ambos conjuntos de datos muestra que en menor o mayor grado hay violaciones a la linealidad, se prosigue con el ajuste lineal."
   ]
  },
  {
   "cell_type": "markdown",
   "metadata": {},
   "source": [
    "Para el caso de la tabla con un solo predictor, se presenta el resumen del ajuste:"
   ]
  },
  {
   "cell_type": "code",
   "execution_count": 20,
   "metadata": {},
   "outputs": [
    {
     "data": {
      "text/plain": [
       "\n",
       "Call:\n",
       "lm(formula = y ~ ., data = datos1)\n",
       "\n",
       "Residuals:\n",
       "    Min      1Q  Median      3Q     Max \n",
       "-1.6053 -1.0292 -0.3248  0.8324  2.4579 \n",
       "\n",
       "Coefficients:\n",
       "            Estimate Std. Error t value Pr(>|t|)    \n",
       "(Intercept)  -0.1008     0.4118  -0.245    0.808    \n",
       "x            14.5666     0.7328  19.878   <2e-16 ***\n",
       "---\n",
       "Signif. codes:  0 '***' 0.001 '**' 0.01 '*' 0.05 '.' 0.1 ' ' 1\n",
       "\n",
       "Residual standard error: 1.176 on 28 degrees of freedom\n",
       "Multiple R-squared:  0.9338,\tAdjusted R-squared:  0.9315 \n",
       "F-statistic: 395.2 on 1 and 28 DF,  p-value: < 2.2e-16\n"
      ]
     },
     "metadata": {},
     "output_type": "display_data"
    }
   ],
   "source": [
    "lm1 = lm(y~.,datos1)\n",
    "summary(lm1)"
   ]
  },
  {
   "cell_type": "markdown",
   "metadata": {},
   "source": [
    "Encontrando que la regresión es significativa al nivel 0.05 de significancia. Nótese que no se rechaza la hipotesis de que el intercepto sea iguala cero. Esto quiere decir que considerar un modelo sin intercepto es razonable."
   ]
  },
  {
   "cell_type": "code",
   "execution_count": 21,
   "metadata": {
    "scrolled": true
   },
   "outputs": [
    {
     "data": {
      "text/plain": [
       "\n",
       "Call:\n",
       "lm(formula = y ~ x + 0, data = datos1)\n",
       "\n",
       "Residuals:\n",
       "    Min      1Q  Median      3Q     Max \n",
       "-1.6035 -1.0608 -0.3449  0.7869  2.5096 \n",
       "\n",
       "Coefficients:\n",
       "  Estimate Std. Error t value Pr(>|t|)    \n",
       "x  14.4136     0.3758   38.35   <2e-16 ***\n",
       "---\n",
       "Signif. codes:  0 '***' 0.001 '**' 0.01 '*' 0.05 '.' 0.1 ' ' 1\n",
       "\n",
       "Residual standard error: 1.157 on 29 degrees of freedom\n",
       "Multiple R-squared:  0.9807,\tAdjusted R-squared:   0.98 \n",
       "F-statistic:  1471 on 1 and 29 DF,  p-value: < 2.2e-16\n"
      ]
     },
     "metadata": {},
     "output_type": "display_data"
    }
   ],
   "source": [
    "lm1_0 = lm(y~x+0,datos1)\n",
    "summary(lm1_0)"
   ]
  },
  {
   "cell_type": "markdown",
   "metadata": {},
   "source": [
    "La bondad de ajuste de este modelo es superior y es también un modelo con menor complejidad. Por tanto es el modelo que se retiene."
   ]
  },
  {
   "cell_type": "markdown",
   "metadata": {},
   "source": [
    "Las gráficas de diagnóstico muestran una clara evidencia de no linealidad. La existencia de observaciones influeyentes se debe precisamente a que el modelo no captura de forma adecuada la forma de la $f$ que describe la relación $\\mathbb{E}(Y)=f(X)$."
   ]
  },
  {
   "cell_type": "code",
   "execution_count": 23,
   "metadata": {},
   "outputs": [
    {
     "data": {
      "image/png": "[encoded data removed]",
      "text/plain": [
       "Plot with title \"\""
      ]
     },
     "metadata": {},
     "output_type": "display_data"
    }
   ],
   "source": [
    "par(mfrow=c(2,2))\n",
    "plot(lm1_0)"
   ]
  },
  {
   "cell_type": "markdown",
   "metadata": {},
   "source": [
    "La violación a la homocedasticidad no es tan clara o marcada como la no linealidad. La evidencia de normalidad a traves del qqplot tampoco es tan concluyente. Por ello deben efectuarse pruebas sobre los residuales. También se debe revisar la autocorrelación tanto gráficamente como con una prueba de hipótesis."
   ]
  },
  {
   "cell_type": "code",
   "execution_count": 24,
   "metadata": {},
   "outputs": [
    {
     "data": {
      "text/plain": [
       "\n",
       "\tShapiro-Wilk normality test\n",
       "\n",
       "data:  lm1_0$residuals\n",
       "W = 0.93342, p-value = 0.06057\n"
      ]
     },
     "metadata": {},
     "output_type": "display_data"
    }
   ],
   "source": [
    "shapiro.test(lm1_0$residuals)"
   ]
  },
  {
   "cell_type": "markdown",
   "metadata": {},
   "source": [
    "La normalidad no se rechaza al nivel 0.05 de significancia pero el p-value está muy cerca del valor crítico, por lo cual hay que tomar el resultado de esta prueba con reservas.\n",
    "\n",
    "Simuaciones Monte Carlo han demostrado que para un nivel de significancia dado, la potencia de la prueba de Shapiro es superior a la de Anderson-Darling. Sin embargo, reforzamos el no rechazo de la normaliad con una prueba de Anderson-Darling, la cual tampoco es significativa al nivel 0.05."
   ]
  },
  {
   "cell_type": "code",
   "execution_count": 25,
   "metadata": {},
   "outputs": [
    {
     "data": {
      "text/plain": [
       "\n",
       "\tAnderson-Darling normality test\n",
       "\n",
       "data:  lm1_0$residuals\n",
       "A = 0.67775, p-value = 0.06905\n"
      ]
     },
     "metadata": {},
     "output_type": "display_data"
    }
   ],
   "source": [
    "ad.test(lm1_0$residuals)"
   ]
  },
  {
   "cell_type": "markdown",
   "metadata": {},
   "source": [
    "Se genera una gráfica de autocorrelación que parece indicar que no existe autocorrelación en los residuales, ya que las estimaciones caen en la region delimitada por las bandas de confianza. Sin embargo, el tamano de muestra es pequeño y la existencia de outliers en el modelo, en combinacion con la poca rubustez del estimador de autocorrelación, pueden distorsionar la estimación. Se aplica una prueba de Durbin-Watson para determinar si existe una estructura de autocorrelación de primer orden en los residuales $\\varepsilon_t = \\rho\\varepsilon_{t-1} + w_t $ con $\\{w_t\\}_t$ un ruido blanco. La prueba rechaza la hipotesis que $|\\rho|=0$ al nivel 0.05 de significancia."
   ]
  },
  {
   "cell_type": "code",
   "execution_count": 26,
   "metadata": {},
   "outputs": [
    {
     "data": {
      "image/png": "[encoded data removed]",
      "text/plain": [
       "Plot with title \"Series  lm1_0$residuals\""
      ]
     },
     "metadata": {},
     "output_type": "display_data"
    }
   ],
   "source": [
    "acf(lm1_0$residuals)"
   ]
  },
  {
   "cell_type": "code",
   "execution_count": 27,
   "metadata": {},
   "outputs": [
    {
     "data": {
      "text/plain": [
       "\n",
       "\tDurbin-Watson test\n",
       "\n",
       "data:  lm1_0\n",
       "DW = 1.3325, p-value = 0.03153\n",
       "alternative hypothesis: true autocorrelation is greater than 0\n"
      ]
     },
     "metadata": {},
     "output_type": "display_data"
    }
   ],
   "source": [
    "dwtest(lm1_0)"
   ]
  },
  {
   "cell_type": "markdown",
   "metadata": {},
   "source": [
    "Por último, la prueba homogeneidad de varianza no detecta evidencia suficiente para rechazar la homocedasticidad ($\\alpha=0.05$)."
   ]
  },
  {
   "cell_type": "code",
   "execution_count": 28,
   "metadata": {},
   "outputs": [
    {
     "data": {
      "text/plain": [
       "\n",
       "\tstudentized Breusch-Pagan test\n",
       "\n",
       "data:  lm1\n",
       "BP = 0.74594, df = 1, p-value = 0.3878\n"
      ]
     },
     "metadata": {},
     "output_type": "display_data"
    }
   ],
   "source": [
    "bptest(lm1)"
   ]
  },
  {
   "cell_type": "markdown",
   "metadata": {},
   "source": [
    "En conclusión, si bien la no linealidad de los datos no es extrema, es posible detectarla en el análisis y es muy probablemente la causa de la autocorrelacion y la existencia de observaciones influyentes. \n",
    "\n",
    "Para explicar la variabilidad de los datos este modelo no es malo, pero si la finalidad es predecir, muy probablemente el modelo tendrá un error alto. El error no aparente puede estimarse empleando validacion cruzada, aunque la cantidad de datos disponibles es tan poca que las estimaciones no serían confiables. Sin embargo, sí puede servir para ilustrar la existencia de sesgo, debido a que el modelo es muy simple, y los datos requieren un modelo con una mayor complejidad."
   ]
  },
  {
   "cell_type": "markdown",
   "metadata": {},
   "source": [
    "Finalmente, se calcula la el error cuadrático medio (MSE) con el fin de compar el error aparente de los ajustes obtenidos."
   ]
  },
  {
   "cell_type": "code",
   "execution_count": 422,
   "metadata": {},
   "outputs": [
    {
     "name": "stdout",
     "output_type": "stream",
     "text": [
      "[1] \"El MSE del modelo es 1.29391591575122\"\n"
     ]
    }
   ],
   "source": [
    "print(paste(\"El MSE del modelo es\",sum(lm1_0$residuals^2)/length(datos1$y)))"
   ]
  },
  {
   "cell_type": "markdown",
   "metadata": {},
   "source": [
    "Ahora, para el caso de los datos en el dataset con dos predictores, se tienen los siguientes resultados, gráficas diagnóstico, y pruebas estadísticas."
   ]
  },
  {
   "cell_type": "code",
   "execution_count": 30,
   "metadata": {},
   "outputs": [
    {
     "data": {
      "text/plain": [
       "\n",
       "Call:\n",
       "lm(formula = y ~ ., data = datos2)\n",
       "\n",
       "Residuals:\n",
       "    Min      1Q  Median      3Q     Max \n",
       "-6027.3 -3213.3  -730.2  2496.8 10720.7 \n",
       "\n",
       "Coefficients:\n",
       "            Estimate Std. Error t value Pr(>|t|)    \n",
       "(Intercept)  -6114.8     2527.9  -2.419   0.0226 *  \n",
       "x1            2790.7     3347.6   0.834   0.4118    \n",
       "x2            1675.6      288.9   5.801 3.58e-06 ***\n",
       "---\n",
       "Signif. codes:  0 '***' 0.001 '**' 0.01 '*' 0.05 '.' 0.1 ' ' 1\n",
       "\n",
       "Residual standard error: 4676 on 27 degrees of freedom\n",
       "Multiple R-squared:  0.5605,\tAdjusted R-squared:  0.528 \n",
       "F-statistic: 17.22 on 2 and 27 DF,  p-value: 1.512e-05\n"
      ]
     },
     "metadata": {},
     "output_type": "display_data"
    }
   ],
   "source": [
    "lm2 = lm(y~.,datos2)\n",
    "summary(lm2)"
   ]
  },
  {
   "cell_type": "code",
   "execution_count": 31,
   "metadata": {},
   "outputs": [
    {
     "data": {
      "image/png": "[encoded data removed]",
      "text/plain": [
       "plot without title"
      ]
     },
     "metadata": {},
     "output_type": "display_data"
    }
   ],
   "source": [
    "s3d = scatterplot3d(datos2,color = \"blue\",pch = 19,angle = 45,type=\"h\")\n",
    "s3d$plane3d(lm2)\n",
    "s3d$points3d(datos2$x1, datos2$x2,-6114.8 + 2790.7*datos2$x1 + 1675.6*datos2$x2 ,\n",
    "    col = \"red\", type = \"h\", pch = 8)\n",
    "legend(\"topleft\", legend = c(\"data\",\"\n",
    "fitted\"),\n",
    "  col = c(\"blue\",\"red\"),pch=c(19,8),cex=0.8,bty = \"n\")"
   ]
  },
  {
   "cell_type": "code",
   "execution_count": 32,
   "metadata": {},
   "outputs": [
    {
     "data": {
      "image/png": "[encoded data removed]",
      "text/plain": [
       "Plot with title \"\""
      ]
     },
     "metadata": {},
     "output_type": "display_data"
    }
   ],
   "source": [
    "par(mfrow=c(2,2))\n",
    "plot(lm2)"
   ]
  },
  {
   "cell_type": "code",
   "execution_count": 33,
   "metadata": {},
   "outputs": [
    {
     "data": {
      "text/plain": [
       "\n",
       "\tShapiro-Wilk normality test\n",
       "\n",
       "data:  lm2$residuals\n",
       "W = 0.90933, p-value = 0.01431\n"
      ]
     },
     "metadata": {},
     "output_type": "display_data"
    }
   ],
   "source": [
    "shapiro.test(lm2$residuals)"
   ]
  },
  {
   "cell_type": "code",
   "execution_count": 34,
   "metadata": {},
   "outputs": [
    {
     "data": {
      "text/plain": [
       "\n",
       "\tAnderson-Darling normality test\n",
       "\n",
       "data:  lm2$residuals\n",
       "A = 0.75698, p-value = 0.04348\n"
      ]
     },
     "metadata": {},
     "output_type": "display_data"
    }
   ],
   "source": [
    "ad.test(lm2$residuals)"
   ]
  },
  {
   "cell_type": "code",
   "execution_count": 35,
   "metadata": {},
   "outputs": [
    {
     "data": {
      "image/png": "[encoded data removed]",
      "text/plain": [
       "Plot with title \"Series  lm2$residuals\""
      ]
     },
     "metadata": {},
     "output_type": "display_data"
    }
   ],
   "source": [
    "acf(lm2$residuals)"
   ]
  },
  {
   "cell_type": "code",
   "execution_count": 36,
   "metadata": {},
   "outputs": [
    {
     "data": {
      "text/plain": [
       "\n",
       "\tDurbin-Watson test\n",
       "\n",
       "data:  lm2\n",
       "DW = 1.8757, p-value = 0.3764\n",
       "alternative hypothesis: true autocorrelation is greater than 0\n"
      ]
     },
     "metadata": {},
     "output_type": "display_data"
    }
   ],
   "source": [
    "dwtest(lm2)"
   ]
  },
  {
   "cell_type": "code",
   "execution_count": 37,
   "metadata": {},
   "outputs": [
    {
     "data": {
      "text/plain": [
       "\n",
       "\tstudentized Breusch-Pagan test\n",
       "\n",
       "data:  lm2\n",
       "BP = 12.196, df = 2, p-value = 0.002247\n"
      ]
     },
     "metadata": {},
     "output_type": "display_data"
    }
   ],
   "source": [
    "bptest(lm2)"
   ]
  },
  {
   "cell_type": "markdown",
   "metadata": {},
   "source": [
    "Contrario al análisis para los datos con un sólo predictor, en este caso los supuestos que se violan de acuerdo a las pruebas, son la normalidad y la homogeneidad de varianza. Ambos modelos parecen coincidir en el hecho de que la no linealidad es un problema y existen outliers precisamente debido al sesgo introducido por el modelo al considerar una forma tan simple para la relación $f$ en $Y=f(X_1,X_2)$.\n",
    "\n",
    "De acuerdo al resumen del modelo, la regresión es significativa al nivel 0.05 de significancia, con la variable $x_1$ siendo no significativa de acuerdo a la prueba T. "
   ]
  },
  {
   "cell_type": "markdown",
   "metadata": {},
   "source": [
    "El MSE en este caso es extremadamente grande, dando evidencia del mal ajuste. "
   ]
  },
  {
   "cell_type": "code",
   "execution_count": 421,
   "metadata": {},
   "outputs": [
    {
     "name": "stdout",
     "output_type": "stream",
     "text": [
      "[1] \"El MSE del modelo es 19680628.1508724\"\n"
     ]
    }
   ],
   "source": [
    "print(paste(\"El MSE del modelo es\",sum(lm2$residuals^2)/length(datos2$y)))"
   ]
  },
  {
   "cell_type": "markdown",
   "metadata": {},
   "source": [
    "***Parte 2: Regresión no paramétrica***"
   ]
  },
  {
   "cell_type": "markdown",
   "metadata": {},
   "source": [
    "Los modelos de regresión no paramétrica son numerosos. Así que en esta sección se hará uso de únicamente un modelo para intentar ajustar mejor los datos que con un modelo lineal.\n",
    "\n",
    "Los procesos Gaussianos son una poderosa herramienta que permite realizar regresiones en un contexto Bayesiano, definiendo una distribución a priori sobre funciones continuas (el proceso latente o señal) a través de distribuciones finito-dimensionales normales multivariadas\n",
    "\n",
    "$$\n",
    "P(f|X)=  N(f|\\mu(X), K(X))\n",
    "$$\n",
    "\n",
    "Similarmente, la verosimilitud para los datos observados toma una forma Gaussiana\n",
    "\n",
    "$$\n",
    "P(Y|f,X) = N(Y|f,\\sigma^2 I)\n",
    "$$\n",
    "\n",
    "donde $\\sigma^2$ es la varianza del ruido.\n",
    "\n",
    "$\\mu(X)$ puede tomarse como constante o puede tener otra forma. Los elementos de la matriz de covarianzas $K(X)$ están dados en función de Kernels $k(\\vec{x_i},\\vec{x_j})$ donde $\\vec{x_i}$ representa el vector de variables predictoras para la observación $i$.\n",
    "\n",
    "A través de las conocidas propiedades condicionales de la distribución Gaussiana, es posible encontrar la distribución predictiva para un vector $Y^*$ de nuevas observaciones $P(Y^*|X,Y,X^*)$ que será tambien una Gaussiana con media y matriz de covarianzas determinadas por productos matriciales. La predicción se hace utilizando el MAP, en este caso la media.\n",
    "\n",
    "La estructura de covarianza elegida para los datos será la obtenida por un kernel Gaussiano, cuya expresion general es\n",
    "\n",
    "$$\n",
    "k(\\vec{x_i },\\vec{x_j})=\\sigma^2_f \\exp\\left(-\\dfrac{1}{2}(\\vec{x_i}-\\vec{x_j})'M((\\vec{x_i}-\\vec{x_j}))\\right)\n",
    "$$\n",
    "\n",
    "en este caso con $M=diag\\left\\{l_1^{-2},...,l_p^{-2}\\right\\}$ con $p$ el número de variables.\n",
    "\n",
    "Para ajustar el modelo, los datos seran centrados y el proceso Gaussiano se propone de media cero, es decir, $\\mu(X)=0$.\n",
    "\n",
    "Los hiperparámetros (varianza del ruido y parámetros del kernel) denotados por $\\theta$, son ajustados maximizando la log-verosimilitud marginal:\n",
    "\n",
    "$$\n",
    "P(Y|X,\\theta) = -\\dfrac{1}{2}Y'(K(X)+\\sigma^2I)^{-1}Y - \\dfrac{1}{2}\\det(K(X)+\\sigma^2I) - \\dfrac{n}{2}\\log 2\\pi\n",
    "$$"
   ]
  },
  {
   "cell_type": "code",
   "execution_count": 40,
   "metadata": {},
   "outputs": [],
   "source": [
    "#Gaussian kernel function\n",
    "#x,y: pair of data points\n",
    "#a: variance of signal\n",
    "#b: lenght scale in each dimension\n",
    "#x,y, and b dimensions must match\n",
    "GaussianKernel = function(x,y,a,b){\n",
    "    x=as.vector(x)\n",
    "    y=as.vector(y)\n",
    "    b=as.vector(b)\n",
    "  return(a*exp(-(1/2)*t((x-y))%*%((1/b^2)*diag(length(b)))%*%(x-y)))\n",
    "}"
   ]
  },
  {
   "cell_type": "code",
   "execution_count": 41,
   "metadata": {},
   "outputs": [],
   "source": [
    "#Gaussian kernel computations for conditional distribution\n",
    "#x=matrix or data frame of inputs (each row corresponds to an observation), y=vector of observations, xnew=new point\n",
    "#a,b: parameters of the Gaussian kernel\n",
    "#variance: noise variance\n",
    "GaussianCond = function(x,y,xnew,a,b,variance){\n",
    "  x=as.matrix(x)  \n",
    "  n=length(y)\n",
    "  sigma = matrix(0,nrow = n,ncol=n)\n",
    "  for(i in 1:n){\n",
    "    for(j in 1:n){\n",
    "      sigma[i,j] = GaussianKernel(x[i,],x[j,],a,b)\n",
    "    }\n",
    "  }\n",
    "  s=numeric(n)\n",
    "  for(i in 1:n){\n",
    "    s[i]=GaussianKernel(xnew,x[i,],a,b)\n",
    "  }\n",
    "  invsigma = solve(sigma + variance*diag(n))\n",
    "  mean = t(s) %*% invsigma %*% t(t(y))\n",
    "  var = GaussianKernel(xnew,xnew,a,b) - (t(s) %*% invsigma %*% t(t(s))) + variance\n",
    "  return(list(mean,var))\n",
    "}"
   ]
  },
  {
   "cell_type": "code",
   "execution_count": 42,
   "metadata": {},
   "outputs": [],
   "source": [
    "#Gaussian process prediction\n",
    "#x: matrix or data frame of inputs (each row corresponds to an observation), y=vector of observations\n",
    "#xnew: matrix or data frame of inputs (each row represents a different site) for predicted values\n",
    "#a,b: parameters of the Gaussian kernel\n",
    "#variance: noise variance\n",
    "#alpha: 1-alpha probability interval\n",
    "GaussianPred = function(x,y,xnew,a,b,variance,alpha){\n",
    "  xnew=as.matrix(xnew)\n",
    "  m=dim(xnew)[1]\n",
    "  mu=numeric(m)\n",
    "  vars=numeric(m)\n",
    "  u=numeric(m)\n",
    "  l=numeric(m)\n",
    "  for(i in 1:m){\n",
    "    G=GaussianCond(x,y,xnew[i,],a,b,variance)\n",
    "    mu[i]=G[[1]]\n",
    "    vars[i]=G[[2]]\n",
    "  }\n",
    "  vars[vars<0] = 0\n",
    "  q=qnorm(1-(alpha/2),0,1)\n",
    "  u=mu+q*sqrt(vars)\n",
    "  l=mu-q*sqrt(vars)\n",
    "  df=as.data.frame(cbind(xnew,mu,l,u))\n",
    "  colnames(df) = c(colnames(xnew),\"predictive mean\",\"lower\",\"upper\")\n",
    "  return(df)\n",
    "}"
   ]
  },
  {
   "cell_type": "markdown",
   "metadata": {},
   "source": [
    "Prueba de la funcion para puntos generados por un proceso Gaussiano:"
   ]
  },
  {
   "cell_type": "code",
   "execution_count": 43,
   "metadata": {},
   "outputs": [],
   "source": [
    "#Gaussian kernel GP sampler in 1d\n",
    "GaussianSampler = function(linf,lsup,n,a,b,variance){\n",
    "  t = seq(from = linf,to = lsup,length.out = n)\n",
    "  sigma = matrix(0,nrow = n,ncol=n)\n",
    "  for(i in 1:n){\n",
    "    for(j in 1:n){\n",
    "      sigma[i,j] = GaussianKernel(t[i],t[j],a,b)\n",
    "    }\n",
    "  }\n",
    "  x = mvrnorm(n=1, mu = rep(0,n), Sigma = sigma, tol = 1e-6, empirical = FALSE, EISPACK = FALSE) + rnorm(n,0,sqrt(variance))\n",
    "  df=as.data.frame(cbind(t,x))\n",
    "  colnames(df)=c(\"x\",\"y\")\n",
    "  return(list(df,sigma))\n",
    "}"
   ]
  },
  {
   "cell_type": "markdown",
   "metadata": {},
   "source": [
    "Señal generada de un proceso Gaussiano con parámetros $\\sigma_f^2=5$, $l=1$, $\\sigma^2=0$ (sin ruido)."
   ]
  },
  {
   "cell_type": "code",
   "execution_count": 52,
   "metadata": {},
   "outputs": [
    {
     "data": {
      "image/png": "[encoded data removed]",
      "text/plain": [
       "plot without title"
      ]
     },
     "metadata": {},
     "output_type": "display_data"
    }
   ],
   "source": [
    "set.seed(20)\n",
    "G=GaussianSampler(linf=0,lsup=10,n=1000,a=5,b=1,variance=0)[[1]]\n",
    "ggplot(G) + geom_path(aes(x=x,y=y))"
   ]
  },
  {
   "cell_type": "markdown",
   "metadata": {},
   "source": [
    "Tomamos una muestra de 30 puntos y les agregamos ruido de varianza 1. Con estos puntos, obtenemos la media predictiva e intervalos de credibilidad del 90\\%:"
   ]
  },
  {
   "cell_type": "code",
   "execution_count": 170,
   "metadata": {},
   "outputs": [
    {
     "data": {
      "image/png": "[encoded data removed]",
      "text/plain": [
       "plot without title"
      ]
     },
     "metadata": {},
     "output_type": "display_data"
    }
   ],
   "source": [
    "set.seed(302)\n",
    "s = sample(x=1:dim(G)[1],size = 30,replace = FALSE)\n",
    "Gs = G[s,]\n",
    "Gs$y = Gs$y + rnorm(dim(Gs)[1],0,1)\n",
    "P = GaussianPred(x=Gs$x,y=Gs$y,xnew=data.frame(x=seq(0,10,0.1)),a=5,b=1,variance=1,alpha=0.1)\n",
    "colors <- c(\"signal\" = \"black\", \"noisy data\" = \"snow4\", \"predictive mean\" = \"steelblue1\",\"prediction bands\"=\"gold\")\n",
    "ggplot(G) + geom_path(aes(x=x,y=y,colour=\"signal\")) + geom_point(data=Gs,aes(x=x,y=y,colour=\"noisy data\")) + geom_path(data=P,aes(x=x,y=`predictive mean`,colour=\"predictive mean\"),linetype=\"dashed\",size=1) + \n",
    "geom_ribbon(data=P,aes(x=x,ymin=lower,ymax=upper,colour=\"prediction bands\"),linetype=\"dashed\",fill=\"gold\",size=1,alpha=0.1) + scale_color_manual(values = colors) + labs(colour=\"Legend\") +  theme(legend.position=\"top\")"
   ]
  },
  {
   "cell_type": "markdown",
   "metadata": {},
   "source": [
    "Como puede observarse, con un número limitado de puntos, es posible recuperar la forma de la senal de manera razonable, y las bandas de prediccion contienen a la mayoria de los puntos observados."
   ]
  },
  {
   "cell_type": "markdown",
   "metadata": {},
   "source": [
    "Antes de proceder al ajuste, es necesario optimizar la logverosimilitud marginal para estimar los hiperparametros. Esta función se programa y se emplea el solver `optim` con múltiples puntos iniciales, para encontrar el mejor óptimo debido a la no convexidad del problema de optimización."
   ]
  },
  {
   "cell_type": "code",
   "execution_count": 247,
   "metadata": {},
   "outputs": [],
   "source": [
    "#negative marginal loglikelihood function (1d)\n",
    "#theta: vector of hyperparamters theta=(a,b,variance)\n",
    "#x: vector of inputs\n",
    "#y: data points\n",
    "logL1d = function(theta,x,y){\n",
    "  n=length(y)\n",
    "  sigma = matrix(0,nrow = n,ncol=n)\n",
    "  for(i in 1:n){\n",
    "    for(j in 1:n){\n",
    "      sigma[i,j] = GaussianKernel(x[i],x[j],theta[1],theta[2])\n",
    "    }\n",
    "  }\n",
    "  K = sigma + theta[3]*diag(n)\n",
    "  Kinv=solve(K)\n",
    "   return(-( -(1/2)*t(y)%*%Kinv%*%y - (1/2)*log(det(K)) - (n/2)*log(2*pi)))\n",
    "}"
   ]
  },
  {
   "cell_type": "code",
   "execution_count": 350,
   "metadata": {},
   "outputs": [],
   "source": [
    "#negative marginal loglikelihood function (2d)\n",
    "#theta: vector of hyperparamters theta=(a,b1,b2,variance)\n",
    "#x: dataframe or matrix of inputs\n",
    "#y: data points\n",
    "logL2d = function(theta,x,y){\n",
    "  x=as.matrix(x)\n",
    "  n=length(y)\n",
    "  sigma = matrix(0,nrow = n,ncol=n)\n",
    "  for(i in 1:n){\n",
    "    for(j in 1:n){\n",
    "      sigma[i,j] = GaussianKernel(x[i,],x[j,],theta[1],c(theta[2],theta[3]))\n",
    "    }\n",
    "  }\n",
    "  K = sigma + theta[4]*diag(n)\n",
    "  Kinv=solve(K)\n",
    "   return(-( -(1/2)*t(y)%*%Kinv%*%y - (1/2)*log(det(K)) - (n/2)*log(2*pi)))\n",
    "}"
   ]
  },
  {
   "cell_type": "markdown",
   "metadata": {},
   "source": [
    "Probemos el ajuste para los datos simulados en la grafica anterior, iniciando los hiperparámetros aleatoriamente:"
   ]
  },
  {
   "cell_type": "code",
   "execution_count": 251,
   "metadata": {},
   "outputs": [],
   "source": [
    "set.seed(1000)\n",
    "o=optim(c(runif(1,0,25),runif(1,0,10),runif(1,0,10)),logL1d,lower=c(0.001,0.001,0.001),upper=rep(Inf, 3),method=\"L-BFGS-B\",x=Gs$x,y=Gs$y)"
   ]
  },
  {
   "cell_type": "code",
   "execution_count": 252,
   "metadata": {},
   "outputs": [
    {
     "data": {
      "text/html": [
       "<dl>\n",
       "\t<dt>$par</dt>\n",
       "\t\t<dd><ol class=list-inline>\n",
       "\t<li>7.04391343947751</li>\n",
       "\t<li>0.867051655216721</li>\n",
       "\t<li>0.956502880363104</li>\n",
       "</ol>\n",
       "</dd>\n",
       "\t<dt>$value</dt>\n",
       "\t\t<dd>56.2750628210533</dd>\n",
       "\t<dt>$counts</dt>\n",
       "\t\t<dd><dl class=dl-horizontal>\n",
       "\t<dt>function</dt>\n",
       "\t\t<dd>42</dd>\n",
       "\t<dt>gradient</dt>\n",
       "\t\t<dd>42</dd>\n",
       "</dl>\n",
       "</dd>\n",
       "\t<dt>$convergence</dt>\n",
       "\t\t<dd>0</dd>\n",
       "\t<dt>$message</dt>\n",
       "\t\t<dd>'CONVERGENCE: REL_REDUCTION_OF_F &lt;= FACTR*EPSMCH'</dd>\n",
       "</dl>\n"
      ],
      "text/latex": [
       "\\begin{description}\n",
       "\\item[\\$par] \\begin{enumerate*}\n",
       "\\item 7.04391343947751\n",
       "\\item 0.867051655216721\n",
       "\\item 0.956502880363104\n",
       "\\end{enumerate*}\n",
       "\n",
       "\\item[\\$value] 56.2750628210533\n",
       "\\item[\\$counts] \\begin{description*}\n",
       "\\item[function] 42\n",
       "\\item[gradient] 42\n",
       "\\end{description*}\n",
       "\n",
       "\\item[\\$convergence] 0\n",
       "\\item[\\$message] 'CONVERGENCE: REL\\_REDUCTION\\_OF\\_F <= FACTR*EPSMCH'\n",
       "\\end{description}\n"
      ],
      "text/markdown": [
       "$par\n",
       ":   1. 7.04391343947751\n",
       "2. 0.867051655216721\n",
       "3. 0.956502880363104\n",
       "\n",
       "\n",
       "\n",
       "$value\n",
       ":   56.2750628210533\n",
       "$counts\n",
       ":   function\n",
       ":   42gradient\n",
       ":   42\n",
       "\n",
       "\n",
       "$convergence\n",
       ":   0\n",
       "$message\n",
       ":   'CONVERGENCE: REL_REDUCTION_OF_F &lt;= FACTR*EPSMCH'\n",
       "\n",
       "\n"
      ],
      "text/plain": [
       "$par\n",
       "[1] 7.0439134 0.8670517 0.9565029\n",
       "\n",
       "$value\n",
       "[1] 56.27506\n",
       "\n",
       "$counts\n",
       "function gradient \n",
       "      42       42 \n",
       "\n",
       "$convergence\n",
       "[1] 0\n",
       "\n",
       "$message\n",
       "[1] \"CONVERGENCE: REL_REDUCTION_OF_F <= FACTR*EPSMCH\"\n"
      ]
     },
     "metadata": {},
     "output_type": "display_data"
    }
   ],
   "source": [
    "o"
   ]
  },
  {
   "cell_type": "code",
   "execution_count": 255,
   "metadata": {},
   "outputs": [
    {
     "data": {
      "image/png": "[encoded data removed]",
      "text/plain": [
       "plot without title"
      ]
     },
     "metadata": {},
     "output_type": "display_data"
    }
   ],
   "source": [
    "P2 = GaussianPred(x=Gs$x,y=Gs$y,xnew=data.frame(x=seq(0,10,0.1)),a=7.04391343947751,b=0.867051655216721,variance=0.956502880363104,alpha=0.1)\n",
    "colors <- c(\"signal\" = \"black\", \"noisy data\" = \"snow4\", \"pred (known)\" = \"steelblue1\",\"pred (estimated)\"=\"tomato\")\n",
    "ggplot(G) + geom_path(aes(x=x,y=y,colour=\"signal\")) + geom_point(data=Gs,aes(x=x,y=y,colour=\"noisy data\")) + geom_path(data=P,aes(x=x,y=`predictive mean`,colour=\"pred (known)\"),linetype=\"dashed\",size=1) + \n",
    "geom_path(data=P2,aes(x=x,y=`predictive mean`,colour=\"pred (estimated)\"),linetype=\"dashed\",size=1) + scale_color_manual(values = colors) + labs(colour=\"Legend\") +  theme(legend.position=\"top\")"
   ]
  },
  {
   "cell_type": "markdown",
   "metadata": {},
   "source": [
    "Comparando ambas predicciones, es claro que el ajuste por máxima verosimilitud marginal es bueno. Ambas predicciones son bastante similares. Si bien la predicción usando los hiperparámetros conocidos es ligeramente más cercana a la señal, la prediccion utilizando los hiperparámetros estimados parece ajustar un poco mejor a los datos. "
   ]
  },
  {
   "cell_type": "markdown",
   "metadata": {},
   "source": [
    "Una vez teniendo esta herramienta, se procede a estimar para el caso de los datos del primer dataset, centrando la variable respuesta antes del ajuste. Después del ajuste, se añade la media de las observaciones a las predicciones y bandas de predicción para regresar a los datos no centrados."
   ]
  },
  {
   "cell_type": "code",
   "execution_count": 310,
   "metadata": {},
   "outputs": [],
   "source": [
    "m=mean(datos1$y)\n",
    "datos1$y = datos1$y-m\n",
    "o=optim(c(50,10,10),logL1d,lower=c(0.001,0.001,0.001),upper=rep(Inf, 3),method=\"L-BFGS-B\",x=datos1$x,y=datos1$y)"
   ]
  },
  {
   "cell_type": "code",
   "execution_count": 311,
   "metadata": {},
   "outputs": [
    {
     "data": {
      "text/html": [
       "<dl>\n",
       "\t<dt>$par</dt>\n",
       "\t\t<dd><ol class=list-inline>\n",
       "\t<li>354.723576181135</li>\n",
       "\t<li>0.91225291377412</li>\n",
       "\t<li>0.0887739086028667</li>\n",
       "</ol>\n",
       "</dd>\n",
       "\t<dt>$value</dt>\n",
       "\t\t<dd>21.0287200593221</dd>\n",
       "\t<dt>$counts</dt>\n",
       "\t\t<dd><dl class=dl-horizontal>\n",
       "\t<dt>function</dt>\n",
       "\t\t<dd>110</dd>\n",
       "\t<dt>gradient</dt>\n",
       "\t\t<dd>110</dd>\n",
       "</dl>\n",
       "</dd>\n",
       "\t<dt>$convergence</dt>\n",
       "\t\t<dd>0</dd>\n",
       "\t<dt>$message</dt>\n",
       "\t\t<dd>'CONVERGENCE: REL_REDUCTION_OF_F &lt;= FACTR*EPSMCH'</dd>\n",
       "</dl>\n"
      ],
      "text/latex": [
       "\\begin{description}\n",
       "\\item[\\$par] \\begin{enumerate*}\n",
       "\\item 354.723576181135\n",
       "\\item 0.91225291377412\n",
       "\\item 0.0887739086028667\n",
       "\\end{enumerate*}\n",
       "\n",
       "\\item[\\$value] 21.0287200593221\n",
       "\\item[\\$counts] \\begin{description*}\n",
       "\\item[function] 110\n",
       "\\item[gradient] 110\n",
       "\\end{description*}\n",
       "\n",
       "\\item[\\$convergence] 0\n",
       "\\item[\\$message] 'CONVERGENCE: REL\\_REDUCTION\\_OF\\_F <= FACTR*EPSMCH'\n",
       "\\end{description}\n"
      ],
      "text/markdown": [
       "$par\n",
       ":   1. 354.723576181135\n",
       "2. 0.91225291377412\n",
       "3. 0.0887739086028667\n",
       "\n",
       "\n",
       "\n",
       "$value\n",
       ":   21.0287200593221\n",
       "$counts\n",
       ":   function\n",
       ":   110gradient\n",
       ":   110\n",
       "\n",
       "\n",
       "$convergence\n",
       ":   0\n",
       "$message\n",
       ":   'CONVERGENCE: REL_REDUCTION_OF_F &lt;= FACTR*EPSMCH'\n",
       "\n",
       "\n"
      ],
      "text/plain": [
       "$par\n",
       "[1] 354.72357618   0.91225291   0.08877391\n",
       "\n",
       "$value\n",
       "[1] 21.02872\n",
       "\n",
       "$counts\n",
       "function gradient \n",
       "     110      110 \n",
       "\n",
       "$convergence\n",
       "[1] 0\n",
       "\n",
       "$message\n",
       "[1] \"CONVERGENCE: REL_REDUCTION_OF_F <= FACTR*EPSMCH\"\n"
      ]
     },
     "metadata": {},
     "output_type": "display_data"
    }
   ],
   "source": [
    "o"
   ]
  },
  {
   "cell_type": "code",
   "execution_count": 312,
   "metadata": {},
   "outputs": [],
   "source": [
    "Pred_datos1 = GaussianPred(x=datos1$x,y=datos1$y,xnew=data.frame(x=seq(0,1,0.001)),a=354.723576181135,b=0.91225291377412,variance=0.0887739086028667,alpha=0.1)\n",
    "datos1$y = datos1$y+m\n",
    "Pred_datos1$`predictive mean` = Pred_datos1$`predictive mean`+m\n",
    "Pred_datos1$lower = Pred_datos1$lower+m\n",
    "Pred_datos1$upper = Pred_datos1$upper+m"
   ]
  },
  {
   "cell_type": "code",
   "execution_count": 313,
   "metadata": {},
   "outputs": [
    {
     "data": {
      "image/png": "[encoded data removed]",
      "text/plain": [
       "plot without title"
      ]
     },
     "metadata": {},
     "output_type": "display_data"
    }
   ],
   "source": [
    "colors <- c(\"datos\" = \"snow4\", \"media predictiva\" = \"steelblue2\", \"bandas de prediccion\"=\"green\")\n",
    "ggplot(datos1) + geom_point(aes(x=x,y=y,colour=\"datos\")) + geom_path(data=Pred_datos1,aes(x=x,y=`predictive mean`,colour=\"media predictiva\"),linetype=\"dashed\",size=0.5) + \n",
    "geom_ribbon(data=Pred_datos1,aes(x=x,ymin=lower,ymax=upper,colour=\"bandas de prediccion\"),linetype=\"dashed\",fill=\"green\",size=0.5,alpha=0.05) + scale_color_manual(values = colors) + labs(colour=\"Legend\") +  theme(legend.position=\"top\")"
   ]
  },
  {
   "cell_type": "markdown",
   "metadata": {},
   "source": [
    "El nuevo MSE es mucho menor que el obtenido por la regresión lineal."
   ]
  },
  {
   "cell_type": "code",
   "execution_count": 419,
   "metadata": {},
   "outputs": [
    {
     "name": "stdout",
     "output_type": "stream",
     "text": [
      "[1] \"El MSE del modelo es 0.0765705333534294\"\n"
     ]
    }
   ],
   "source": [
    "Pred_datos1_train=GaussianPred(x=datos1$x,y=datos1$y-m,xnew=data.frame(x=datos1$x),a=354.723576181135,b=0.91225291377412,variance=0.0887739086028667,alpha=0.1)\n",
    "print(paste(\"El MSE del modelo es\",sum((datos1$y-(Pred_datos1_train$`predictive mean`+m))^2)/length(datos1$y)))"
   ]
  },
  {
   "cell_type": "markdown",
   "metadata": {},
   "source": [
    "Ahora, para el caso del dataset con dos predictores se tiene la siguiente estimación de los hiperparámetros $\\theta = (\\sigma_f^2,l_1,l_2,\\sigma^2)$:"
   ]
  },
  {
   "cell_type": "code",
   "execution_count": 357,
   "metadata": {},
   "outputs": [],
   "source": [
    "m2=mean(datos2$y)\n",
    "o=optim(c(1000,1000,1,1000),logL2d,lower=c(0.001,0.001,0.001,0.001),upper=rep(Inf, 4),method=\"L-BFGS-B\",x=datos2[c(\"x1\",\"x2\")],y=datos2$y-m2)"
   ]
  },
  {
   "cell_type": "code",
   "execution_count": 358,
   "metadata": {},
   "outputs": [
    {
     "data": {
      "text/html": [
       "<dl>\n",
       "\t<dt>$par</dt>\n",
       "\t\t<dd><ol class=list-inline>\n",
       "\t<li>20061457.8258212</li>\n",
       "\t<li>3986.27405454698</li>\n",
       "\t<li>0.875749703837088</li>\n",
       "\t<li>146.68627604451</li>\n",
       "</ol>\n",
       "</dd>\n",
       "\t<dt>$value</dt>\n",
       "\t\t<dd>185.431680538491</dd>\n",
       "\t<dt>$counts</dt>\n",
       "\t\t<dd><dl class=dl-horizontal>\n",
       "\t<dt>function</dt>\n",
       "\t\t<dd>115</dd>\n",
       "\t<dt>gradient</dt>\n",
       "\t\t<dd>115</dd>\n",
       "</dl>\n",
       "</dd>\n",
       "\t<dt>$convergence</dt>\n",
       "\t\t<dd>0</dd>\n",
       "\t<dt>$message</dt>\n",
       "\t\t<dd>'CONVERGENCE: REL_REDUCTION_OF_F &lt;= FACTR*EPSMCH'</dd>\n",
       "</dl>\n"
      ],
      "text/latex": [
       "\\begin{description}\n",
       "\\item[\\$par] \\begin{enumerate*}\n",
       "\\item 20061457.8258212\n",
       "\\item 3986.27405454698\n",
       "\\item 0.875749703837088\n",
       "\\item 146.68627604451\n",
       "\\end{enumerate*}\n",
       "\n",
       "\\item[\\$value] 185.431680538491\n",
       "\\item[\\$counts] \\begin{description*}\n",
       "\\item[function] 115\n",
       "\\item[gradient] 115\n",
       "\\end{description*}\n",
       "\n",
       "\\item[\\$convergence] 0\n",
       "\\item[\\$message] 'CONVERGENCE: REL\\_REDUCTION\\_OF\\_F <= FACTR*EPSMCH'\n",
       "\\end{description}\n"
      ],
      "text/markdown": [
       "$par\n",
       ":   1. 20061457.8258212\n",
       "2. 3986.27405454698\n",
       "3. 0.875749703837088\n",
       "4. 146.68627604451\n",
       "\n",
       "\n",
       "\n",
       "$value\n",
       ":   185.431680538491\n",
       "$counts\n",
       ":   function\n",
       ":   115gradient\n",
       ":   115\n",
       "\n",
       "\n",
       "$convergence\n",
       ":   0\n",
       "$message\n",
       ":   'CONVERGENCE: REL_REDUCTION_OF_F &lt;= FACTR*EPSMCH'\n",
       "\n",
       "\n"
      ],
      "text/plain": [
       "$par\n",
       "[1] 2.006146e+07 3.986274e+03 8.757497e-01 1.466863e+02\n",
       "\n",
       "$value\n",
       "[1] 185.4317\n",
       "\n",
       "$counts\n",
       "function gradient \n",
       "     115      115 \n",
       "\n",
       "$convergence\n",
       "[1] 0\n",
       "\n",
       "$message\n",
       "[1] \"CONVERGENCE: REL_REDUCTION_OF_F <= FACTR*EPSMCH\"\n"
      ]
     },
     "metadata": {},
     "output_type": "display_data"
    }
   ],
   "source": [
    "o"
   ]
  },
  {
   "cell_type": "markdown",
   "metadata": {},
   "source": [
    "Con estos parametros, comparamos las predicciones con lo observado, primero a través de gráficos y posteriormente comparando las MSE."
   ]
  },
  {
   "cell_type": "code",
   "execution_count": 360,
   "metadata": {},
   "outputs": [],
   "source": [
    "Pred_datos2 = GaussianPred(x=datos2[c(\"x1\",\"x2\")],y=datos2$y-m2,xnew=datos2[c(\"x1\",\"x2\")],a=20061457.8258212,b=c(3986.27405454698,0.875749703837088),variance=146.68627604451,alpha=0.1)"
   ]
  },
  {
   "cell_type": "markdown",
   "metadata": {},
   "source": [
    "La gráfica siguiente muestra que los valores ajustados y los observados son tan cercanos que debido a la escala tan grande del eje vertical, los puntos parecen estar uno encima de otro."
   ]
  },
  {
   "cell_type": "code",
   "execution_count": 413,
   "metadata": {},
   "outputs": [
    {
     "data": {
      "image/png": "[encoded data removed]",
      "text/plain": [
       "plot without title"
      ]
     },
     "metadata": {},
     "output_type": "display_data"
    }
   ],
   "source": [
    "s3d_2 = scatterplot3d(datos2,color = \"blue\",pch = 19,angle = 45,type=\"h\")\n",
    "s3d_2$points3d(datos2$x1, datos2$x2,Pred_datos2$`predictive mean`+m2 ,\n",
    "    col = \"red\", type = \"h\", pch = 8)\n",
    "legend(\"topleft\", legend = c(\"data\",\"\n",
    "fitted\"),\n",
    "  col = c(\"blue\",\"red\"),pch=c(19,8),cex=0.8,bty = \"n\")"
   ]
  },
  {
   "cell_type": "code",
   "execution_count": 386,
   "metadata": {},
   "outputs": [],
   "source": [
    "superficie = function(x,y,x1,x2,a,b,variance,alpha){\n",
    "    z = matrix(0,nrow=length(x1),ncol=length(x2))\n",
    "    for(i in 1:length(x1)){\n",
    "        for(j in 1:length(x2)){\n",
    "            z[i,j] = GaussianPred(x=x,y=y,xnew=data.frame(x1=x1[i],x2=x2[j]),a=a,b=b,variance=variance,alpha=alpha)[[3]][1]\n",
    "        }\n",
    "    }\n",
    "    return(z)\n",
    "}"
   ]
  },
  {
   "cell_type": "code",
   "execution_count": 416,
   "metadata": {},
   "outputs": [],
   "source": [
    "z=superficie(x=datos2[c(\"x1\",\"x2\")],y=datos2$y-m2,x1=seq(0,1,length.out = 100),x2=seq(1,10,length.out = 90),a=20061457.8258212,b=c(3986.27405454698,0.875749703837088),variance=146.68627604451,alpha=0.1)"
   ]
  },
  {
   "cell_type": "markdown",
   "metadata": {},
   "source": [
    "Por otro lado, el siguiente gráfico muestra la superficie de regresión del proceso Gaussiano. La gráfica parece aproximar bien el comportamiento observado en los scatterplots en 3 dimensiones, y los diagramas de dispersión en dos dimensiones, de cada predictor contra la respuesta."
   ]
  },
  {
   "cell_type": "code",
   "execution_count": 417,
   "metadata": {},
   "outputs": [
    {
     "data": {
      "image/png": "[encoded data removed]",
      "text/plain": [
       "plot without title"
      ]
     },
     "metadata": {},
     "output_type": "display_data"
    }
   ],
   "source": [
    "persp(x=seq(0,1,length.out = 100),y=seq(0,10,length.out = 90),z=z+m2,theta=45,col=\"thistle1\",xlab = \"x1\",ylab = \"x2\",zlab = \"y\",shade=0.5)"
   ]
  },
  {
   "cell_type": "markdown",
   "metadata": {},
   "source": [
    "Por último, calculamos el MSE del modelo y observamos la dramática reducción del MSE al comparar con el obtenido ajustando un modelo lineal."
   ]
  },
  {
   "cell_type": "code",
   "execution_count": 420,
   "metadata": {},
   "outputs": [
    {
     "name": "stdout",
     "output_type": "stream",
     "text": [
      "[1] \"El MSE del modelo es 97.7355400505492\"\n"
     ]
    }
   ],
   "source": [
    "print(paste(\"El MSE del modelo es\",sum((datos2$y-(Pred_datos2$`predictive mean`+m2))^2)/length(datos2$y)))"
   ]
  },
  {
   "cell_type": "markdown",
   "metadata": {},
   "source": [
    "***Parte 3: Regresión no lineal***"
   ]
  },
  {
   "cell_type": "code",
   "execution_count": null,
   "metadata": {},
   "outputs": [],
   "source": []
  }
 ],
 "metadata": {
  "kernelspec": {
   "display_name": "R",
   "language": "R",
   "name": "ir"
  },
  "language_info": {
   "codemirror_mode": "r",
   "file_extension": ".r",
   "mimetype": "text/x-r-source",
   "name": "R",
   "pygments_lexer": "r",
   "version": "3.6.1"
  }
 },
 "nbformat": 4,
 "nbformat_minor": 4
}
